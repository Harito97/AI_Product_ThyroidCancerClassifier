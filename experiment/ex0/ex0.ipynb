{
 "cells": [
  {
   "cell_type": "code",
   "execution_count": 1,
   "id": "7a1a6f4b-d2d6-4db4-ad02-82347f8e1b83",
   "metadata": {},
   "outputs": [
    {
     "name": "stdout",
     "output_type": "stream",
     "text": [
      "Train Data\n",
      "  Class  Number of Images\n",
      "0    B2               385\n",
      "1    B5               432\n",
      "2    B6               624\n",
      "Validation Data\n",
      "  Class  Number of Images\n",
      "0    B2                97\n",
      "1    B5               109\n",
      "2    B6               157\n"
     ]
    }
   ],
   "source": [
    "import os\n",
    "import pandas as pd\n",
    "\n",
    "def count_images_per_class(folder_path):\n",
    "    image_counts = {}\n",
    "    for subfolder in ['B2', 'B5', 'B6']:\n",
    "        folder = os.path.join(folder_path, subfolder)\n",
    "        if os.path.isdir(folder):\n",
    "            num_images = len([f for f in os.listdir(folder) if os.path.isfile(os.path.join(folder, f))])\n",
    "            image_counts[subfolder] = num_images\n",
    "    return image_counts\n",
    "\n",
    "# Đường dẫn đến thư mục dữ liệu\n",
    "data_dir = '/home/haipn/projects/data/dataver1'\n",
    "train_folder = data_dir + '/train'\n",
    "valid_folder = data_dir + '/valid'\n",
    "\n",
    "# Đếm số ảnh ở mỗi nhãn\n",
    "train_counts = count_images_per_class(train_folder)\n",
    "valid_counts = count_images_per_class(valid_folder)\n",
    "\n",
    "# Chuyển đổi dữ liệu thành DataFrame và in kết quả\n",
    "df_train = pd.DataFrame(list(train_counts.items()), columns=['Class', 'Number of Images'])\n",
    "df_valid = pd.DataFrame(list(valid_counts.items()), columns=['Class', 'Number of Images'])\n",
    "\n",
    "print(\"Train Data\")\n",
    "print(df_train)\n",
    "print(\"Validation Data\")\n",
    "print(df_valid)"
   ]
  },
  {
   "cell_type": "code",
   "execution_count": 2,
   "id": "43d3bf82-204a-43eb-8210-24943794c1a6",
   "metadata": {},
   "outputs": [
    {
     "name": "stdout",
     "output_type": "stream",
     "text": [
      "Class Weights: {'B2': 1.2476190476190476, 'B5': 1.1118827160493827, 'B6': 0.7697649572649573}\n"
     ]
    }
   ],
   "source": [
    "import numpy as np\n",
    "\n",
    "# Tính trọng số cho hàm loss\n",
    "total_train_images = sum(train_counts.values())\n",
    "class_weights = {\n",
    "    class_name: total_train_images / (len(train_counts) * num_images)\n",
    "    for class_name, num_images in train_counts.items()\n",
    "}\n",
    "\n",
    "# In trọng số\n",
    "print(\"Class Weights:\", class_weights)"
   ]
  },
  {
   "cell_type": "code",
   "execution_count": 3,
   "id": "dbc814a5-8d6b-4be5-b859-d41c5f35c8fe",
   "metadata": {},
   "outputs": [
    {
     "name": "stdout",
     "output_type": "stream",
     "text": [
      "3\n"
     ]
    }
   ],
   "source": [
    "import torch\n",
    "import torch.nn as nn\n",
    "import torchvision.transforms as transforms\n",
    "from torchvision import datasets\n",
    "from torchvision.models import efficientnet_b0\n",
    "from torch.utils.data import DataLoader, Dataset\n",
    "from torchvision.models import efficientnet_b0, EfficientNet_B0_Weights\n",
    "\n",
    "class H97_1__0_1_2(nn.Module):\n",
    "    def __init__(self, num_classes=3):\n",
    "        super(H97_1__0_1_2, self).__init__()\n",
    "        # Khởi tạo mô hình với trọng số tiền huấn luyện\n",
    "        self.model = efficientnet_b0(weights=\"DEFAULT\")\n",
    "        # Thay thế lớp phân loại cuối cùng\n",
    "        in_features = self.model.classifier[1].in_features\n",
    "        self.model.classifier[1] = nn.Linear(in_features, num_classes)\n",
    "\n",
    "    def forward(self, x):\n",
    "        return self.model(x)\n",
    "\n",
    "# Xây dựng model\n",
    "print(len(train_counts))\n",
    "num_classes = 3 # len(train_counts)\n",
    "model = H97_1__0_1_2(num_classes=num_classes)"
   ]
  },
  {
   "cell_type": "code",
   "execution_count": 4,
   "id": "9eb5b27e-a098-4d73-8c4b-27b712d891be",
   "metadata": {},
   "outputs": [],
   "source": [
    "from PIL import Image\n",
    "import random\n",
    "\n",
    "class CustomDataset(Dataset):\n",
    "    def __init__(self, folder_path, transform=None):\n",
    "        self.folder_path = folder_path\n",
    "        self.transform = transform\n",
    "        self.image_paths = []\n",
    "        self.labels = []\n",
    "        for label, subfolder in enumerate(['B2', 'B5', 'B6']):\n",
    "            folder = os.path.join(folder_path, subfolder)\n",
    "            for img_name in os.listdir(folder):\n",
    "                if img_name.lower().endswith(('.png', '.jpg', '.jpeg')):\n",
    "                    self.image_paths.append(os.path.join(folder, img_name))\n",
    "                    self.labels.append(label)\n",
    "    \n",
    "    def __len__(self):\n",
    "        return len(self.image_paths)\n",
    "    \n",
    "    def __getitem__(self, idx):\n",
    "        img = Image.open(self.image_paths[idx]).convert('RGB')\n",
    "        label = self.labels[idx]\n",
    "        if self.transform:\n",
    "            img = self.transform(img)\n",
    "        return img, label\n",
    "\n",
    "# Tăng cường dữ liệu\n",
    "transform_train = transforms.Compose([\n",
    "    transforms.Resize((224, 224)),\n",
    "    transforms.RandomHorizontalFlip(),\n",
    "    transforms.RandomVerticalFlip(),\n",
    "    transforms.RandomRotation(90),\n",
    "    transforms.ToTensor(),\n",
    "])\n",
    "\n",
    "transform_valid = transforms.Compose([\n",
    "    transforms.Resize((224, 224)),\n",
    "    transforms.ToTensor(),\n",
    "])\n",
    "\n",
    "train_dataset = CustomDataset(train_folder, transform=transform_train)\n",
    "valid_dataset = CustomDataset(valid_folder, transform=transform_valid)\n",
    "\n",
    "train_loader = DataLoader(train_dataset, batch_size=32*4, shuffle=True)\n",
    "valid_loader = DataLoader(valid_dataset, batch_size=32*4, shuffle=False)"
   ]
  },
  {
   "cell_type": "code",
   "execution_count": 5,
   "id": "e7b78411-162a-4b89-8b29-3d1dbc95a8ab",
   "metadata": {},
   "outputs": [
    {
     "data": {
      "text/plain": [
       "12"
      ]
     },
     "execution_count": 5,
     "metadata": {},
     "output_type": "execute_result"
    }
   ],
   "source": [
    "len(train_loader)"
   ]
  },
  {
   "cell_type": "code",
   "execution_count": 6,
   "id": "0ce7a5f4-db11-4a1b-a046-6f1e231cac8e",
   "metadata": {},
   "outputs": [
    {
     "data": {
      "text/plain": [
       "3"
      ]
     },
     "execution_count": 6,
     "metadata": {},
     "output_type": "execute_result"
    }
   ],
   "source": [
    "len(valid_loader)"
   ]
  },
  {
   "cell_type": "code",
   "execution_count": 7,
   "id": "6f6a6721-5a04-4ba4-a436-21459f968e78",
   "metadata": {},
   "outputs": [
    {
     "name": "stderr",
     "output_type": "stream",
     "text": [
      "\u001b[34m\u001b[1mwandb\u001b[0m: Currently logged in as: \u001b[33mharito97\u001b[0m (\u001b[33mharito\u001b[0m). Use \u001b[1m`wandb login --relogin`\u001b[0m to force relogin\n"
     ]
    },
    {
     "data": {
      "text/plain": [
       "True"
      ]
     },
     "execution_count": 7,
     "metadata": {},
     "output_type": "execute_result"
    }
   ],
   "source": [
    "import wandb\n",
    "\n",
    "wandb.login()"
   ]
  },
  {
   "cell_type": "code",
   "execution_count": 8,
   "id": "3f44e5ea-c7f3-4c1b-8e98-9dcb7aa83fcd",
   "metadata": {},
   "outputs": [
    {
     "data": {
      "application/vnd.jupyter.widget-view+json": {
       "model_id": "1504943c82964e00bc7df97c8f709fc0",
       "version_major": 2,
       "version_minor": 0
      },
      "text/plain": [
       "VBox(children=(Label(value='Waiting for wandb.init()...\\r'), FloatProgress(value=0.01111332520053515, max=1.0)…"
      ]
     },
     "metadata": {},
     "output_type": "display_data"
    },
    {
     "data": {
      "text/html": [
       "Tracking run with wandb version 0.17.5"
      ],
      "text/plain": [
       "<IPython.core.display.HTML object>"
      ]
     },
     "metadata": {},
     "output_type": "display_data"
    },
    {
     "data": {
      "text/html": [
       "Run data is saved locally in <code>/home/haipn/projects/AI_Product_ThyroidCancerClassifier/wandb/run-20240805_080706-27p29n0r</code>"
      ],
      "text/plain": [
       "<IPython.core.display.HTML object>"
      ]
     },
     "metadata": {},
     "output_type": "display_data"
    },
    {
     "data": {
      "text/html": [
       "Syncing run <strong><a href='https://wandb.ai/harito/AI_Product_ThyroidCancerClassifier/runs/27p29n0r' target=\"_blank\">H97_1__0_1_2_dataver1</a></strong> to <a href='https://wandb.ai/harito/AI_Product_ThyroidCancerClassifier' target=\"_blank\">Weights & Biases</a> (<a href='https://wandb.me/run' target=\"_blank\">docs</a>)<br/>"
      ],
      "text/plain": [
       "<IPython.core.display.HTML object>"
      ]
     },
     "metadata": {},
     "output_type": "display_data"
    },
    {
     "data": {
      "text/html": [
       " View project at <a href='https://wandb.ai/harito/AI_Product_ThyroidCancerClassifier' target=\"_blank\">https://wandb.ai/harito/AI_Product_ThyroidCancerClassifier</a>"
      ],
      "text/plain": [
       "<IPython.core.display.HTML object>"
      ]
     },
     "metadata": {},
     "output_type": "display_data"
    },
    {
     "data": {
      "text/html": [
       " View run at <a href='https://wandb.ai/harito/AI_Product_ThyroidCancerClassifier/runs/27p29n0r' target=\"_blank\">https://wandb.ai/harito/AI_Product_ThyroidCancerClassifier/runs/27p29n0r</a>"
      ],
      "text/plain": [
       "<IPython.core.display.HTML object>"
      ]
     },
     "metadata": {},
     "output_type": "display_data"
    },
    {
     "name": "stdout",
     "output_type": "stream",
     "text": [
      "Early stopping\n"
     ]
    },
    {
     "data": {
      "application/vnd.jupyter.widget-view+json": {
       "model_id": "",
       "version_major": 2,
       "version_minor": 0
      },
      "text/plain": [
       "VBox(children=(Label(value='0.003 MB of 0.003 MB uploaded\\r'), FloatProgress(value=1.0, max=1.0)))"
      ]
     },
     "metadata": {},
     "output_type": "display_data"
    },
    {
     "data": {
      "text/html": [
       "<style>\n",
       "    table.wandb td:nth-child(1) { padding: 0 10px; text-align: left ; width: auto;} td:nth-child(2) {text-align: left ; width: 100%}\n",
       "    .wandb-row { display: flex; flex-direction: row; flex-wrap: wrap; justify-content: flex-start; width: 100% }\n",
       "    .wandb-col { display: flex; flex-direction: column; flex-basis: 100%; flex: 1; padding: 10px; }\n",
       "    </style>\n",
       "<div class=\"wandb-row\"><div class=\"wandb-col\"><h3>Run history:</h3><br/><table class=\"wandb\"><tr><td>accuracy</td><td>▁▅▅▆▆▇▆▇▇▇▇█▇▇▇▇▇▇███</td></tr><tr><td>epoch</td><td>▁▁▂▂▂▃▃▃▄▄▅▅▅▆▆▆▇▇▇██</td></tr><tr><td>f1_score</td><td>▁▄▅▆▆▇▆▇▇▇▇████▇▇████</td></tr><tr><td>train_loss</td><td>█▆▅▄▄▃▃▃▂▂▂▂▂▂▂▁▁▁▁▁▁</td></tr><tr><td>valid_loss</td><td>█▅▄▃▃▂▂▂▁▁▁▁▁▁▁▁▂▂▂▂▂</td></tr></table><br/></div><div class=\"wandb-col\"><h3>Run summary:</h3><br/><table class=\"wandb\"><tr><td>accuracy</td><td>0.85399</td></tr><tr><td>epoch</td><td>20</td></tr><tr><td>f1_score</td><td>0.85414</td></tr><tr><td>train_loss</td><td>0.11745</td></tr><tr><td>valid_loss</td><td>0.44948</td></tr></table><br/></div></div>"
      ],
      "text/plain": [
       "<IPython.core.display.HTML object>"
      ]
     },
     "metadata": {},
     "output_type": "display_data"
    },
    {
     "data": {
      "text/html": [
       " View run <strong style=\"color:#cdcd00\">H97_1__0_1_2_dataver1</strong> at: <a href='https://wandb.ai/harito/AI_Product_ThyroidCancerClassifier/runs/27p29n0r' target=\"_blank\">https://wandb.ai/harito/AI_Product_ThyroidCancerClassifier/runs/27p29n0r</a><br/> View project at: <a href='https://wandb.ai/harito/AI_Product_ThyroidCancerClassifier' target=\"_blank\">https://wandb.ai/harito/AI_Product_ThyroidCancerClassifier</a><br/>Synced 6 W&B file(s), 0 media file(s), 0 artifact file(s) and 0 other file(s)"
      ],
      "text/plain": [
       "<IPython.core.display.HTML object>"
      ]
     },
     "metadata": {},
     "output_type": "display_data"
    },
    {
     "data": {
      "text/html": [
       "Find logs at: <code>./wandb/run-20240805_080706-27p29n0r/logs</code>"
      ],
      "text/plain": [
       "<IPython.core.display.HTML object>"
      ]
     },
     "metadata": {},
     "output_type": "display_data"
    },
    {
     "data": {
      "text/html": [
       "The new W&B backend becomes opt-out in version 0.18.0; try it out with `wandb.require(\"core\")`! See https://wandb.me/wandb-core for more information."
      ],
      "text/plain": [
       "<IPython.core.display.HTML object>"
      ]
     },
     "metadata": {},
     "output_type": "display_data"
    }
   ],
   "source": [
    "from torch.optim import Adam\n",
    "from sklearn.metrics import accuracy_score, f1_score, roc_auc_score\n",
    "from sklearn.preprocessing import label_binarize\n",
    "\n",
    "# Khởi tạo WandB\n",
    "wandb.init(project=\"AI_Product_ThyroidCancerClassifier\", name='H97_1__0_1_2_dataver1')\n",
    "\n",
    "def train(model, train_loader, valid_loader, num_epochs=100, patience=10):\n",
    "    criterion = nn.CrossEntropyLoss(weight=torch.tensor(list(class_weights.values()), dtype=torch.float32).cuda())\n",
    "    optimizer = Adam(model.parameters(), lr=1e-4)\n",
    "    best_loss = float('inf')\n",
    "    patience_counter = 0\n",
    "\n",
    "    for epoch in range(num_epochs):\n",
    "        model.train()\n",
    "        running_loss = 0.0\n",
    "        for images, labels in train_loader:\n",
    "            images, labels = images.cuda(), labels.cuda()\n",
    "            optimizer.zero_grad()\n",
    "            outputs = model(images)\n",
    "            loss = criterion(outputs, labels)\n",
    "            loss.backward()\n",
    "            optimizer.step()\n",
    "            running_loss += loss.item()\n",
    "        \n",
    "        epoch_loss = running_loss / len(train_loader)\n",
    "\n",
    "        # Validation\n",
    "        model.eval()\n",
    "        valid_loss = 0.0\n",
    "        all_preds = []\n",
    "        all_labels = []\n",
    "        with torch.no_grad():\n",
    "            for images, labels in valid_loader:\n",
    "                images, labels = images.cuda(), labels.cuda()\n",
    "                outputs = model(images)\n",
    "                loss = criterion(outputs, labels)\n",
    "                valid_loss += loss.item()\n",
    "                preds = torch.argmax(outputs, dim=1)\n",
    "                all_preds.extend(preds.cpu().numpy())\n",
    "                all_labels.extend(labels.cpu().numpy())\n",
    "        \n",
    "        epoch_valid_loss = valid_loss / len(valid_loader)\n",
    "\n",
    "        # Early stopping\n",
    "        if epoch_valid_loss < best_loss:\n",
    "            best_loss = epoch_valid_loss\n",
    "            torch.save(model.state_dict(), \"output_ex/best_model_H97_1__0_1_2_dataver1.pth\")\n",
    "            patience_counter = 0\n",
    "        else:\n",
    "            patience_counter += 1\n",
    "            if patience_counter >= patience:\n",
    "                print(\"Early stopping\")\n",
    "                break\n",
    "\n",
    "        # Tính toán các chỉ số\n",
    "        accuracy = accuracy_score(all_labels, all_preds)\n",
    "        f1 = f1_score(all_labels, all_preds, average='weighted')\n",
    "        wandb.log({\"epoch\": epoch, \"accuracy\": accuracy, \"f1_score\": f1, \"train_loss\": epoch_loss, \"valid_loss\": epoch_valid_loss})\n",
    "\n",
    "    wandb.finish()\n",
    "\n",
    "# Train model\n",
    "model.cuda()\n",
    "train(model, train_loader, valid_loader)"
   ]
  },
  {
   "cell_type": "code",
   "execution_count": 9,
   "id": "038752c8-e1ef-4328-9945-5bb570e119e4",
   "metadata": {},
   "outputs": [
    {
     "data": {
      "application/vnd.jupyter.widget-view+json": {
       "model_id": "9e31fa1ee8b146df8616e23823251bd9",
       "version_major": 2,
       "version_minor": 0
      },
      "text/plain": [
       "VBox(children=(Label(value='Waiting for wandb.init()...\\r'), FloatProgress(value=0.011113304289109591, max=1.0…"
      ]
     },
     "metadata": {},
     "output_type": "display_data"
    },
    {
     "data": {
      "text/html": [
       "Tracking run with wandb version 0.17.5"
      ],
      "text/plain": [
       "<IPython.core.display.HTML object>"
      ]
     },
     "metadata": {},
     "output_type": "display_data"
    },
    {
     "data": {
      "text/html": [
       "Run data is saved locally in <code>/home/haipn/projects/AI_Product_ThyroidCancerClassifier/wandb/run-20240805_081843-jxurb1u2</code>"
      ],
      "text/plain": [
       "<IPython.core.display.HTML object>"
      ]
     },
     "metadata": {},
     "output_type": "display_data"
    },
    {
     "data": {
      "text/html": [
       "Syncing run <strong><a href='https://wandb.ai/harito/AI_Product_ThyroidCancerClassifier/runs/jxurb1u2' target=\"_blank\">H97_1__0_1_2_dataver1_test</a></strong> to <a href='https://wandb.ai/harito/AI_Product_ThyroidCancerClassifier' target=\"_blank\">Weights & Biases</a> (<a href='https://wandb.me/run' target=\"_blank\">docs</a>)<br/>"
      ],
      "text/plain": [
       "<IPython.core.display.HTML object>"
      ]
     },
     "metadata": {},
     "output_type": "display_data"
    },
    {
     "data": {
      "text/html": [
       " View project at <a href='https://wandb.ai/harito/AI_Product_ThyroidCancerClassifier' target=\"_blank\">https://wandb.ai/harito/AI_Product_ThyroidCancerClassifier</a>"
      ],
      "text/plain": [
       "<IPython.core.display.HTML object>"
      ]
     },
     "metadata": {},
     "output_type": "display_data"
    },
    {
     "data": {
      "text/html": [
       " View run at <a href='https://wandb.ai/harito/AI_Product_ThyroidCancerClassifier/runs/jxurb1u2' target=\"_blank\">https://wandb.ai/harito/AI_Product_ThyroidCancerClassifier/runs/jxurb1u2</a>"
      ],
      "text/plain": [
       "<IPython.core.display.HTML object>"
      ]
     },
     "metadata": {},
     "output_type": "display_data"
    },
    {
     "name": "stdout",
     "output_type": "stream",
     "text": [
      "Accuracy: 0.8485\n",
      "F1 Score: 0.8496\n"
     ]
    },
    {
     "data": {
      "image/png": "[encoded data removed]",
      "text/plain": [
       "<Figure size 640x480 with 2 Axes>"
      ]
     },
     "metadata": {},
     "output_type": "display_data"
    },
    {
     "data": {
      "image/png": "[encoded data removed]",
      "text/plain": [
       "<Figure size 1000x800 with 1 Axes>"
      ]
     },
     "metadata": {},
     "output_type": "display_data"
    },
    {
     "data": {
      "application/vnd.jupyter.widget-view+json": {
       "model_id": "",
       "version_major": 2,
       "version_minor": 0
      },
      "text/plain": [
       "VBox(children=(Label(value='0.003 MB of 0.003 MB uploaded\\r'), FloatProgress(value=1.0, max=1.0)))"
      ]
     },
     "metadata": {},
     "output_type": "display_data"
    },
    {
     "data": {
      "text/html": [
       "<style>\n",
       "    table.wandb td:nth-child(1) { padding: 0 10px; text-align: left ; width: auto;} td:nth-child(2) {text-align: left ; width: 100%}\n",
       "    .wandb-row { display: flex; flex-direction: row; flex-wrap: wrap; justify-content: flex-start; width: 100% }\n",
       "    .wandb-col { display: flex; flex-direction: column; flex-basis: 100%; flex: 1; padding: 10px; }\n",
       "    </style>\n",
       "<div class=\"wandb-row\"><div class=\"wandb-col\"><h3>Run history:</h3><br/><table class=\"wandb\"><tr><td>accuracy</td><td>▁</td></tr><tr><td>f1_score</td><td>▁</td></tr></table><br/></div><div class=\"wandb-col\"><h3>Run summary:</h3><br/><table class=\"wandb\"><tr><td>accuracy</td><td>0.84848</td></tr><tr><td>f1_score</td><td>0.84962</td></tr></table><br/></div></div>"
      ],
      "text/plain": [
       "<IPython.core.display.HTML object>"
      ]
     },
     "metadata": {},
     "output_type": "display_data"
    },
    {
     "data": {
      "text/html": [
       " View run <strong style=\"color:#cdcd00\">H97_1__0_1_2_dataver1_test</strong> at: <a href='https://wandb.ai/harito/AI_Product_ThyroidCancerClassifier/runs/jxurb1u2' target=\"_blank\">https://wandb.ai/harito/AI_Product_ThyroidCancerClassifier/runs/jxurb1u2</a><br/> View project at: <a href='https://wandb.ai/harito/AI_Product_ThyroidCancerClassifier' target=\"_blank\">https://wandb.ai/harito/AI_Product_ThyroidCancerClassifier</a><br/>Synced 6 W&B file(s), 0 media file(s), 0 artifact file(s) and 0 other file(s)"
      ],
      "text/plain": [
       "<IPython.core.display.HTML object>"
      ]
     },
     "metadata": {},
     "output_type": "display_data"
    },
    {
     "data": {
      "text/html": [
       "Find logs at: <code>./wandb/run-20240805_081843-jxurb1u2/logs</code>"
      ],
      "text/plain": [
       "<IPython.core.display.HTML object>"
      ]
     },
     "metadata": {},
     "output_type": "display_data"
    },
    {
     "data": {
      "text/html": [
       "The new W&B backend becomes opt-out in version 0.18.0; try it out with `wandb.require(\"core\")`! See https://wandb.me/wandb-core for more information."
      ],
      "text/plain": [
       "<IPython.core.display.HTML object>"
      ]
     },
     "metadata": {},
     "output_type": "display_data"
    }
   ],
   "source": [
    "%matplotlib inline\n",
    "from sklearn.metrics import accuracy_score, f1_score, confusion_matrix, ConfusionMatrixDisplay, auc, roc_auc_score, roc_curve\n",
    "from sklearn.preprocessing import label_binarize\n",
    "import matplotlib.pyplot as plt\n",
    "import numpy as np\n",
    "\n",
    "def evaluate_model(model, valid_loader):\n",
    "    model.load_state_dict(torch.load('output_ex/best_model_H97_1__0_1_2_dataver1.pth', weights_only=True))\n",
    "    model.eval()\n",
    "    all_labels = []\n",
    "    all_preds = []\n",
    "    all_preds_prob = []\n",
    "    \n",
    "    with torch.no_grad():\n",
    "        for images, labels in valid_loader:\n",
    "            images, labels = images.cuda(), labels.cuda()\n",
    "            outputs = model(images)\n",
    "            preds = torch.argmax(outputs, dim=1).cpu().numpy()\n",
    "            preds_prob = torch.nn.functional.softmax(outputs, dim=1).cpu().numpy()\n",
    "            all_preds.extend(preds)\n",
    "            all_labels.extend(labels.cpu().numpy())\n",
    "            all_preds_prob.extend(preds_prob)\n",
    "    \n",
    "    accuracy = accuracy_score(all_labels, all_preds)\n",
    "    f1 = f1_score(all_labels, all_preds, average='weighted')\n",
    "    cm = confusion_matrix(all_labels, all_preds)\n",
    "\n",
    "    # Log metrics to WandB\n",
    "    wandb.log({'accuracy': accuracy, 'f1_score': f1})\n",
    "    \n",
    "    print(f'Accuracy: {accuracy:.4f}')\n",
    "    print(f'F1 Score: {f1:.4f}')\n",
    "\n",
    "    disp = ConfusionMatrixDisplay(confusion_matrix=cm, display_labels=['B2', 'B5', 'B6'])\n",
    "    disp.plot(cmap=plt.cm.Blues)\n",
    "    plt.title('Confusion Matrix')\n",
    "    plt.show()\n",
    "    \n",
    "    # ROC AUC\n",
    "    all_labels_bin = label_binarize(all_labels, classes=[0, 1, 2])\n",
    "    all_preds_prob = np.array(all_preds_prob)\n",
    "    \n",
    "    plt.figure(figsize=(10, 8))\n",
    "    for i in range(all_labels_bin.shape[1]):\n",
    "        fpr, tpr, _ = roc_curve(all_labels_bin[:, i], all_preds_prob[:, i])\n",
    "        plt.plot(fpr, tpr, label=f'Class {i} (area = {auc(fpr, tpr):.2f})')\n",
    "    \n",
    "    plt.title('ROC Curve')\n",
    "    plt.xlabel('False Positive Rate')\n",
    "    plt.ylabel('True Positive Rate')\n",
    "    plt.legend(loc='lower right')\n",
    "    plt.show()\n",
    "\n",
    "wandb.init(project=\"AI_Product_ThyroidCancerClassifier\", name='H97_1__0_1_2_dataver1_test')\n",
    "evaluate_model(model, valid_loader)\n",
    "wandb.finish()"
   ]
  }
 ],
 "metadata": {
  "kernelspec": {
   "display_name": "Python 3 (ipykernel)",
   "language": "python",
   "name": "python3"
  },
  "language_info": {
   "codemirror_mode": {
    "name": "ipython",
    "version": 3
   },
   "file_extension": ".py",
   "mimetype": "text/x-python",
   "name": "python",
   "nbconvert_exporter": "python",
   "pygments_lexer": "ipython3",
   "version": "3.12.4"
  }
 },
 "nbformat": 4,
 "nbformat_minor": 5
}
