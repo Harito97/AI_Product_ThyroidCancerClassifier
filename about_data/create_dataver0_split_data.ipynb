{
 "cells": [
  {
   "cell_type": "code",
   "execution_count": null,
   "metadata": {},
   "outputs": [],
   "source": [
    "import os\n",
    "import shutil\n",
    "import random\n",
    "\n",
    "def split_data(source_dir, train_dir, valid_dir, split_ratio=0.8):\n",
    "    # Tạo các thư mục cho train và valid nếu chưa tồn tại\n",
    "    if not os.path.exists(train_dir):\n",
    "        os.makedirs(train_dir)\n",
    "    if not os.path.exists(valid_dir):\n",
    "        os.makedirs(valid_dir)\n",
    "    \n",
    "    # Lặp qua từng thư mục con trong thư mục nguồn\n",
    "    for class_folder in os.listdir(source_dir):\n",
    "        class_path = os.path.join(source_dir, class_folder)\n",
    "        \n",
    "        if os.path.isdir(class_path):\n",
    "            # Tạo thư mục con trong train và valid cho từng lớp\n",
    "            train_class_dir = os.path.join(train_dir, class_folder)\n",
    "            valid_class_dir = os.path.join(valid_dir, class_folder)\n",
    "            if not os.path.exists(train_class_dir):\n",
    "                os.makedirs(train_class_dir)\n",
    "            if not os.path.exists(valid_class_dir):\n",
    "                os.makedirs(valid_class_dir)\n",
    "            \n",
    "            # Lấy danh sách tất cả các tệp ảnh trong thư mục lớp\n",
    "            all_files = os.listdir(class_path)\n",
    "            random.shuffle(all_files)  # Trộn danh sách tệp\n",
    "            \n",
    "            # Xác định số lượng tệp cho train và valid\n",
    "            split_index = int(len(all_files) * split_ratio)\n",
    "            train_files = all_files[:split_index]\n",
    "            valid_files = all_files[split_index:]\n",
    "            \n",
    "            # Di chuyển các tệp vào thư mục train\n",
    "            for file_name in train_files:\n",
    "                src_file = os.path.join(class_path, file_name)\n",
    "                dst_file = os.path.join(train_class_dir, file_name)\n",
    "                shutil.copy(src_file, dst_file)\n",
    "            \n",
    "            # Di chuyển các tệp vào thư mục valid\n",
    "            for file_name in valid_files:\n",
    "                src_file = os.path.join(class_path, file_name)\n",
    "                dst_file = os.path.join(valid_class_dir, file_name)\n",
    "                shutil.copy(src_file, dst_file)\n",
    "\n",
    "source_directory = '/path/to/source_folder'  # Thư mục gốc chứa các lớp ảnh\n",
    "train_directory = '/path/to/train_folder'    # Thư mục đích cho tập train\n",
    "valid_directory = '/path/to/valid_folder'    # Thư mục đích cho tập valid\n",
    "\n",
    "split_data(source_directory, train_directory, valid_directory)"
   ]
  }
 ],
 "metadata": {
  "language_info": {
   "name": "python"
  }
 },
 "nbformat": 4,
 "nbformat_minor": 2
}
