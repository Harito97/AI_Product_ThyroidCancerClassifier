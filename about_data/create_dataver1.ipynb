{
 "cells": [
  {
   "cell_type": "code",
   "execution_count": null,
   "metadata": {},
   "outputs": [],
   "source": [
    "%pip install ultralytics"
   ]
  },
  {
   "cell_type": "code",
   "execution_count": null,
   "metadata": {},
   "outputs": [],
   "source": [
    "from ultralytics import YOLO\n",
    "model = YOLO(model=..., task='detect')  # Initialize model"
   ]
  },
  {
   "cell_type": "code",
   "execution_count": null,
   "metadata": {},
   "outputs": [],
   "source": [
    "import os\n",
    "\n",
    "# Hàm để xử lý một ảnh\n",
    "def process_image(image_path, output_path, model):\n",
    "    results = model(image_path)\n",
    "    results[0].save(output_path, conf=False, labels=False,)    # as results is a list of images, we need to save the first one\n",
    "\n",
    "# Hàm để xử lý tất cả các ảnh trong thư mục\n",
    "def process_folder(input_folder, output_folder, model):\n",
    "    for root, dirs, files in os.walk(input_folder):\n",
    "        for file in files:\n",
    "            if file.lower().endswith((\".png\", \".jpg\", \".jpeg\")):\n",
    "                image_path = os.path.join(root, file)\n",
    "                relative_path = os.path.relpath(image_path, input_folder)\n",
    "                output_path = os.path.join(output_folder, relative_path)\n",
    "                os.makedirs(os.path.dirname(output_path), exist_ok=True)\n",
    "                process_image(image_path, output_path, model)\n",
    "\n",
    "\n",
    "# Xử lý các ảnh trong các tập train và valid\n",
    "%mkdir -p /kaggle/working/dataver1\n",
    "\n",
    "output_folder = 'dataver1'\n",
    "main_folder_train = '/kaggle/input/thyroidcancer/dataver0/train'\n",
    "main_folder_valid = '/kaggle/input/thyroidcancer/dataver0/valid'\n",
    "\n",
    "process_folder(main_folder_train, os.path.join(output_folder, \"train\"), model)\n",
    "process_folder(main_folder_valid, os.path.join(output_folder, \"valid\"), model)"
   ]
  }
 ],
 "metadata": {
  "language_info": {
   "name": "python"
  }
 },
 "nbformat": 4,
 "nbformat_minor": 2
}
